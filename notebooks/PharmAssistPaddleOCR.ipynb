{
  "nbformat": 4,
  "nbformat_minor": 0,
  "metadata": {
    "colab": {
      "provenance": []
    },
    "kernelspec": {
      "name": "python3",
      "display_name": "Python 3"
    },
    "language_info": {
      "name": "python"
    }
  },
  "cells": [
    {
      "cell_type": "markdown",
      "metadata": {
        "id": "yezG2OeeBwxN"
      },
      "source": [
        "1. Install and Import Dependencies"
      ]
    },
    {
      "cell_type": "code",
      "metadata": {
        "colab": {
          "base_uri": "https://localhost:8080/"
        },
        "id": "ugSnwKoPAsgp",
        "outputId": "0b020878-3f66-4a48-e120-d236e6659c50"
      },
      "source": [
        "!python3 -m pip install paddlepaddle -i https://mirror.baidu.com/pypi/simple"
      ],
      "execution_count": 141,
      "outputs": [
        {
          "output_type": "stream",
          "name": "stdout",
          "text": [
            "Looking in indexes: https://mirror.baidu.com/pypi/simple, https://us-python.pkg.dev/colab-wheels/public/simple/\n",
            "Requirement already satisfied: paddlepaddle in /usr/local/lib/python3.10/dist-packages (2.4.0)\n",
            "Requirement already satisfied: requests>=2.20.0 in /usr/local/lib/python3.10/dist-packages (from paddlepaddle) (2.27.1)\n",
            "Requirement already satisfied: numpy>=1.13 in /usr/local/lib/python3.10/dist-packages (from paddlepaddle) (1.22.4)\n",
            "Requirement already satisfied: protobuf<=3.20.0,>=3.1.0 in /usr/local/lib/python3.10/dist-packages (from paddlepaddle) (3.20.0)\n",
            "Requirement already satisfied: Pillow in /usr/local/lib/python3.10/dist-packages (from paddlepaddle) (8.4.0)\n",
            "Requirement already satisfied: six in /usr/local/lib/python3.10/dist-packages (from paddlepaddle) (1.16.0)\n",
            "Requirement already satisfied: decorator in /usr/local/lib/python3.10/dist-packages (from paddlepaddle) (4.4.2)\n",
            "Requirement already satisfied: astor in /usr/local/lib/python3.10/dist-packages (from paddlepaddle) (0.8.1)\n",
            "Requirement already satisfied: paddle-bfloat==0.1.7 in /usr/local/lib/python3.10/dist-packages (from paddlepaddle) (0.1.7)\n",
            "Requirement already satisfied: opt-einsum==3.3.0 in /usr/local/lib/python3.10/dist-packages (from paddlepaddle) (3.3.0)\n",
            "Requirement already satisfied: urllib3<1.27,>=1.21.1 in /usr/local/lib/python3.10/dist-packages (from requests>=2.20.0->paddlepaddle) (1.26.16)\n",
            "Requirement already satisfied: certifi>=2017.4.17 in /usr/local/lib/python3.10/dist-packages (from requests>=2.20.0->paddlepaddle) (2023.5.7)\n",
            "Requirement already satisfied: charset-normalizer~=2.0.0 in /usr/local/lib/python3.10/dist-packages (from requests>=2.20.0->paddlepaddle) (2.0.12)\n",
            "Requirement already satisfied: idna<4,>=2.5 in /usr/local/lib/python3.10/dist-packages (from requests>=2.20.0->paddlepaddle) (3.4)\n"
          ]
        }
      ]
    },
    {
      "cell_type": "code",
      "metadata": {
        "colab": {
          "base_uri": "https://localhost:8080/"
        },
        "id": "R_yDYeInB-b8",
        "outputId": "3f9ec3a3-0777-4ab2-d52e-c2dc6efb7895"
      },
      "source": [
        "!pip install paddleocr"
      ],
      "execution_count": 165,
      "outputs": [
        {
          "output_type": "stream",
          "name": "stdout",
          "text": [
            "Looking in indexes: https://pypi.org/simple, https://us-python.pkg.dev/colab-wheels/public/simple/\n",
            "Requirement already satisfied: paddleocr in /usr/local/lib/python3.10/dist-packages (2.6.1.3)\n",
            "Requirement already satisfied: shapely in /usr/local/lib/python3.10/dist-packages (from paddleocr) (2.0.1)\n",
            "Requirement already satisfied: scikit-image in /usr/local/lib/python3.10/dist-packages (from paddleocr) (0.19.3)\n",
            "Requirement already satisfied: imgaug in /usr/local/lib/python3.10/dist-packages (from paddleocr) (0.4.0)\n",
            "Requirement already satisfied: pyclipper in /usr/local/lib/python3.10/dist-packages (from paddleocr) (1.3.0.post4)\n",
            "Requirement already satisfied: lmdb in /usr/local/lib/python3.10/dist-packages (from paddleocr) (1.4.1)\n",
            "Requirement already satisfied: tqdm in /usr/local/lib/python3.10/dist-packages (from paddleocr) (4.65.0)\n",
            "Requirement already satisfied: numpy in /usr/local/lib/python3.10/dist-packages (from paddleocr) (1.22.4)\n",
            "Requirement already satisfied: visualdl in /usr/local/lib/python3.10/dist-packages (from paddleocr) (2.5.3)\n",
            "Requirement already satisfied: rapidfuzz in /usr/local/lib/python3.10/dist-packages (from paddleocr) (3.1.1)\n",
            "Requirement already satisfied: opencv-python<=4.6.0.66 in /usr/local/lib/python3.10/dist-packages (from paddleocr) (4.6.0.66)\n",
            "Requirement already satisfied: opencv-contrib-python<=4.6.0.66 in /usr/local/lib/python3.10/dist-packages (from paddleocr) (4.6.0.66)\n",
            "Requirement already satisfied: cython in /usr/local/lib/python3.10/dist-packages (from paddleocr) (0.29.35)\n",
            "Requirement already satisfied: lxml in /usr/local/lib/python3.10/dist-packages (from paddleocr) (4.9.2)\n",
            "Requirement already satisfied: premailer in /usr/local/lib/python3.10/dist-packages (from paddleocr) (3.10.0)\n",
            "Requirement already satisfied: openpyxl in /usr/local/lib/python3.10/dist-packages (from paddleocr) (3.0.10)\n",
            "Requirement already satisfied: attrdict in /usr/local/lib/python3.10/dist-packages (from paddleocr) (2.0.1)\n",
            "Requirement already satisfied: PyMuPDF<1.21.0 in /usr/local/lib/python3.10/dist-packages (from paddleocr) (1.20.2)\n",
            "Requirement already satisfied: python-docx in /usr/local/lib/python3.10/dist-packages (from paddleocr) (0.8.11)\n",
            "Requirement already satisfied: beautifulsoup4 in /usr/local/lib/python3.10/dist-packages (from paddleocr) (4.11.2)\n",
            "Requirement already satisfied: fonttools>=4.24.0 in /usr/local/lib/python3.10/dist-packages (from paddleocr) (4.40.0)\n",
            "Requirement already satisfied: fire>=0.3.0 in /usr/local/lib/python3.10/dist-packages (from paddleocr) (0.5.0)\n",
            "Requirement already satisfied: pdf2docx in /usr/local/lib/python3.10/dist-packages (from paddleocr) (0.5.6)\n",
            "Requirement already satisfied: six in /usr/local/lib/python3.10/dist-packages (from fire>=0.3.0->paddleocr) (1.16.0)\n",
            "Requirement already satisfied: termcolor in /usr/local/lib/python3.10/dist-packages (from fire>=0.3.0->paddleocr) (2.3.0)\n",
            "Requirement already satisfied: soupsieve>1.2 in /usr/local/lib/python3.10/dist-packages (from beautifulsoup4->paddleocr) (2.4.1)\n",
            "Requirement already satisfied: scipy in /usr/local/lib/python3.10/dist-packages (from imgaug->paddleocr) (1.10.1)\n",
            "Requirement already satisfied: Pillow in /usr/local/lib/python3.10/dist-packages (from imgaug->paddleocr) (8.4.0)\n",
            "Requirement already satisfied: matplotlib in /usr/local/lib/python3.10/dist-packages (from imgaug->paddleocr) (3.7.1)\n",
            "Requirement already satisfied: imageio in /usr/local/lib/python3.10/dist-packages (from imgaug->paddleocr) (2.25.1)\n",
            "Requirement already satisfied: networkx>=2.2 in /usr/local/lib/python3.10/dist-packages (from scikit-image->paddleocr) (3.1)\n",
            "Requirement already satisfied: tifffile>=2019.7.26 in /usr/local/lib/python3.10/dist-packages (from scikit-image->paddleocr) (2023.4.12)\n",
            "Requirement already satisfied: PyWavelets>=1.1.1 in /usr/local/lib/python3.10/dist-packages (from scikit-image->paddleocr) (1.4.1)\n",
            "Requirement already satisfied: packaging>=20.0 in /usr/local/lib/python3.10/dist-packages (from scikit-image->paddleocr) (23.1)\n",
            "Requirement already satisfied: et-xmlfile in /usr/local/lib/python3.10/dist-packages (from openpyxl->paddleocr) (1.1.0)\n",
            "Requirement already satisfied: cssselect in /usr/local/lib/python3.10/dist-packages (from premailer->paddleocr) (1.2.0)\n",
            "Requirement already satisfied: cssutils in /usr/local/lib/python3.10/dist-packages (from premailer->paddleocr) (2.7.1)\n",
            "Requirement already satisfied: requests in /usr/local/lib/python3.10/dist-packages (from premailer->paddleocr) (2.27.1)\n",
            "Requirement already satisfied: cachetools in /usr/local/lib/python3.10/dist-packages (from premailer->paddleocr) (5.3.1)\n",
            "Requirement already satisfied: bce-python-sdk in /usr/local/lib/python3.10/dist-packages (from visualdl->paddleocr) (0.8.83)\n",
            "Requirement already satisfied: flask>=1.1.1 in /usr/local/lib/python3.10/dist-packages (from visualdl->paddleocr) (2.2.5)\n",
            "Requirement already satisfied: Flask-Babel>=3.0.0 in /usr/local/lib/python3.10/dist-packages (from visualdl->paddleocr) (3.1.0)\n",
            "Requirement already satisfied: protobuf>=3.20.0 in /usr/local/lib/python3.10/dist-packages (from visualdl->paddleocr) (3.20.0)\n",
            "Requirement already satisfied: pandas in /usr/local/lib/python3.10/dist-packages (from visualdl->paddleocr) (1.5.3)\n",
            "Requirement already satisfied: rarfile in /usr/local/lib/python3.10/dist-packages (from visualdl->paddleocr) (4.0)\n",
            "Requirement already satisfied: psutil in /usr/local/lib/python3.10/dist-packages (from visualdl->paddleocr) (5.9.5)\n",
            "Requirement already satisfied: Werkzeug>=2.2.2 in /usr/local/lib/python3.10/dist-packages (from flask>=1.1.1->visualdl->paddleocr) (2.3.6)\n",
            "Requirement already satisfied: Jinja2>=3.0 in /usr/local/lib/python3.10/dist-packages (from flask>=1.1.1->visualdl->paddleocr) (3.1.2)\n",
            "Requirement already satisfied: itsdangerous>=2.0 in /usr/local/lib/python3.10/dist-packages (from flask>=1.1.1->visualdl->paddleocr) (2.1.2)\n",
            "Requirement already satisfied: click>=8.0 in /usr/local/lib/python3.10/dist-packages (from flask>=1.1.1->visualdl->paddleocr) (8.1.3)\n",
            "Requirement already satisfied: Babel>=2.12 in /usr/local/lib/python3.10/dist-packages (from Flask-Babel>=3.0.0->visualdl->paddleocr) (2.12.1)\n",
            "Requirement already satisfied: pytz>=2022.7 in /usr/local/lib/python3.10/dist-packages (from Flask-Babel>=3.0.0->visualdl->paddleocr) (2022.7.1)\n",
            "Requirement already satisfied: pycryptodome>=3.8.0 in /usr/local/lib/python3.10/dist-packages (from bce-python-sdk->visualdl->paddleocr) (3.18.0)\n",
            "Requirement already satisfied: future>=0.6.0 in /usr/local/lib/python3.10/dist-packages (from bce-python-sdk->visualdl->paddleocr) (0.18.3)\n",
            "Requirement already satisfied: contourpy>=1.0.1 in /usr/local/lib/python3.10/dist-packages (from matplotlib->imgaug->paddleocr) (1.1.0)\n",
            "Requirement already satisfied: cycler>=0.10 in /usr/local/lib/python3.10/dist-packages (from matplotlib->imgaug->paddleocr) (0.11.0)\n",
            "Requirement already satisfied: kiwisolver>=1.0.1 in /usr/local/lib/python3.10/dist-packages (from matplotlib->imgaug->paddleocr) (1.4.4)\n",
            "Requirement already satisfied: pyparsing>=2.3.1 in /usr/local/lib/python3.10/dist-packages (from matplotlib->imgaug->paddleocr) (3.1.0)\n",
            "Requirement already satisfied: python-dateutil>=2.7 in /usr/local/lib/python3.10/dist-packages (from matplotlib->imgaug->paddleocr) (2.8.2)\n",
            "Requirement already satisfied: urllib3<1.27,>=1.21.1 in /usr/local/lib/python3.10/dist-packages (from requests->premailer->paddleocr) (1.26.16)\n",
            "Requirement already satisfied: certifi>=2017.4.17 in /usr/local/lib/python3.10/dist-packages (from requests->premailer->paddleocr) (2023.5.7)\n",
            "Requirement already satisfied: charset-normalizer~=2.0.0 in /usr/local/lib/python3.10/dist-packages (from requests->premailer->paddleocr) (2.0.12)\n",
            "Requirement already satisfied: idna<4,>=2.5 in /usr/local/lib/python3.10/dist-packages (from requests->premailer->paddleocr) (3.4)\n",
            "Requirement already satisfied: MarkupSafe>=2.0 in /usr/local/lib/python3.10/dist-packages (from Jinja2>=3.0->flask>=1.1.1->visualdl->paddleocr) (2.1.3)\n"
          ]
        }
      ]
    },
    {
      "cell_type": "code",
      "metadata": {
        "colab": {
          "base_uri": "https://localhost:8080/"
        },
        "id": "Eu-Y4iIaCK7T",
        "outputId": "07477999-a9f9-4631-ec2a-835fd75db0e3"
      },
      "source": [
        "!git clone https://github.com/PaddlePaddle/PaddleOCR"
      ],
      "execution_count": 166,
      "outputs": [
        {
          "output_type": "stream",
          "name": "stdout",
          "text": [
            "fatal: destination path 'PaddleOCR' already exists and is not an empty directory.\n"
          ]
        }
      ]
    },
    {
      "cell_type": "code",
      "metadata": {
        "id": "1BuF6n8kCRMb"
      },
      "source": [
        "from paddleocr import PaddleOCR, draw_ocr\n",
        "from matplotlib import pyplot as plt\n",
        "import cv2\n",
        "import os\n",
        "import requests"
      ],
      "execution_count": 263,
      "outputs": []
    },
    {
      "cell_type": "markdown",
      "metadata": {
        "id": "k11P-MxoCY85"
      },
      "source": [
        "2. Applying OCR to images"
      ]
    },
    {
      "cell_type": "code",
      "metadata": {
        "id": "GjvSQEMACanU",
        "colab": {
          "base_uri": "https://localhost:8080/"
        },
        "outputId": "ce937382-fe86-412a-c6c4-8446c8a2f03b"
      },
      "source": [
        "ocr_model = PaddleOCR(lang='en')"
      ],
      "execution_count": 264,
      "outputs": [
        {
          "output_type": "stream",
          "name": "stdout",
          "text": [
            "[2023/06/26 19:55:54] ppocr DEBUG: Namespace(help='==SUPPRESS==', use_gpu=False, use_xpu=False, use_npu=False, ir_optim=True, use_tensorrt=False, min_subgraph_size=15, precision='fp32', gpu_mem=500, image_dir=None, page_num=0, det_algorithm='DB', det_model_dir='/root/.paddleocr/whl/det/en/en_PP-OCRv3_det_infer', det_limit_side_len=960, det_limit_type='max', det_box_type='quad', det_db_thresh=0.3, det_db_box_thresh=0.6, det_db_unclip_ratio=1.5, max_batch_size=10, use_dilation=False, det_db_score_mode='fast', det_east_score_thresh=0.8, det_east_cover_thresh=0.1, det_east_nms_thresh=0.2, det_sast_score_thresh=0.5, det_sast_nms_thresh=0.2, det_pse_thresh=0, det_pse_box_thresh=0.85, det_pse_min_area=16, det_pse_scale=1, scales=[8, 16, 32], alpha=1.0, beta=1.0, fourier_degree=5, rec_algorithm='SVTR_LCNet', rec_model_dir='/root/.paddleocr/whl/rec/en/en_PP-OCRv3_rec_infer', rec_image_inverse=True, rec_image_shape='3, 48, 320', rec_batch_num=6, max_text_length=25, rec_char_dict_path='/usr/local/lib/python3.10/dist-packages/paddleocr/ppocr/utils/en_dict.txt', use_space_char=True, vis_font_path='./doc/fonts/simfang.ttf', drop_score=0.5, e2e_algorithm='PGNet', e2e_model_dir=None, e2e_limit_side_len=768, e2e_limit_type='max', e2e_pgnet_score_thresh=0.5, e2e_char_dict_path='./ppocr/utils/ic15_dict.txt', e2e_pgnet_valid_set='totaltext', e2e_pgnet_mode='fast', use_angle_cls=False, cls_model_dir='/root/.paddleocr/whl/cls/ch_ppocr_mobile_v2.0_cls_infer', cls_image_shape='3, 48, 192', label_list=['0', '180'], cls_batch_num=6, cls_thresh=0.9, enable_mkldnn=False, cpu_threads=10, use_pdserving=False, warmup=False, sr_model_dir=None, sr_image_shape='3, 32, 128', sr_batch_num=1, draw_img_save_dir='./inference_results', save_crop_res=False, crop_res_save_dir='./output', use_mp=False, total_process_num=1, process_id=0, benchmark=False, save_log_path='./log_output/', show_log=True, use_onnx=False, output='./output', table_max_len=488, table_algorithm='TableAttn', table_model_dir=None, merge_no_span_structure=True, table_char_dict_path=None, layout_model_dir=None, layout_dict_path=None, layout_score_threshold=0.5, layout_nms_threshold=0.5, kie_algorithm='LayoutXLM', ser_model_dir=None, re_model_dir=None, use_visual_backbone=True, ser_dict_path='../train_data/XFUND/class_list_xfun.txt', ocr_order_method=None, mode='structure', image_orientation=False, layout=True, table=True, ocr=True, recovery=False, use_pdf2docx_api=False, lang='en', det=True, rec=True, type='ocr', ocr_version='PP-OCRv3', structure_version='PP-StructureV2')\n"
          ]
        }
      ]
    },
    {
      "cell_type": "code",
      "metadata": {
        "id": "VaaSlEVvEFMt"
      },
      "source": [
        "img_path = os.path.join('.', 'drug1.jpg')"
      ],
      "execution_count": 270,
      "outputs": []
    },
    {
      "cell_type": "code",
      "metadata": {
        "colab": {
          "base_uri": "https://localhost:8080/",
          "height": 35
        },
        "id": "IjSrvYZHOVSD",
        "outputId": "b474d0c9-01c2-44de-a0b8-615e5d564762"
      },
      "source": [
        "img_path"
      ],
      "execution_count": 273,
      "outputs": [
        {
          "output_type": "execute_result",
          "data": {
            "text/plain": [
              "'./drug1.jpg'"
            ],
            "application/vnd.google.colaboratory.intrinsic+json": {
              "type": "string"
            }
          },
          "metadata": {},
          "execution_count": 273
        }
      ]
    },
    {
      "cell_type": "code",
      "metadata": {
        "id": "7QrLD5uDEK4x",
        "colab": {
          "base_uri": "https://localhost:8080/"
        },
        "outputId": "1a988e97-3b47-461b-e915-84be8ee40511"
      },
      "source": [
        "result = ocr_model.ocr(img_path)"
      ],
      "execution_count": 274,
      "outputs": [
        {
          "output_type": "stream",
          "name": "stdout",
          "text": [
            "[2023/06/26 20:00:55] ppocr WARNING: Since the angle classifier is not initialized, the angle classifier will not be uesd during the forward process\n",
            "[2023/06/26 20:00:55] ppocr DEBUG: dt_boxes num : 57, elapse : 0.5345520973205566\n",
            "[2023/06/26 20:01:04] ppocr DEBUG: rec_res num  : 57, elapse : 8.845585584640503\n"
          ]
        }
      ]
    },
    {
      "cell_type": "code",
      "metadata": {
        "id": "1R2ysAjKEPmS",
        "colab": {
          "base_uri": "https://localhost:8080/"
        },
        "outputId": "a1f7a7ee-e0d3-416f-cc30-b65b91ba4b87"
      },
      "source": [
        "type(result)"
      ],
      "execution_count": 193,
      "outputs": [
        {
          "output_type": "execute_result",
          "data": {
            "text/plain": [
              "list"
            ]
          },
          "metadata": {},
          "execution_count": 193
        }
      ]
    },
    {
      "cell_type": "code",
      "source": [
        "result"
      ],
      "metadata": {
        "colab": {
          "base_uri": "https://localhost:8080/"
        },
        "id": "-W1sN9lNB6de",
        "outputId": "cdefa813-1b17-4580-aa49-e0620e791bdb"
      },
      "execution_count": 194,
      "outputs": [
        {
          "output_type": "execute_result",
          "data": {
            "text/plain": [
              "[[[[[22.0, 18.0], [191.0, 23.0], [190.0, 46.0], [21.0, 40.0]],\n",
              "   ('VCVS pharmacy', 0.9200306534767151)],\n",
              "  [[[276.0, 15.0], [368.0, 15.0], [368.0, 39.0], [276.0, 39.0]],\n",
              "   ('PATIENT', 0.9978834986686707)],\n",
              "  [[[423.0, 12.0], [485.0, 10.0], [486.0, 36.0], [424.0, 39.0]],\n",
              "   ('John', 0.9999155402183533)],\n",
              "  [[[760.0, 17.0], [855.0, 17.0], [855.0, 35.0], [760.0, 35.0]],\n",
              "   ('Important', 0.9887750148773193)],\n",
              "  [[[428.0, 47.0], [477.0, 47.0], [477.0, 69.0], [428.0, 69.0]],\n",
              "   ('Doe', 0.9981111884117126)],\n",
              "  [[[758.0, 38.0], [871.0, 38.0], [871.0, 57.0], [758.0, 57.0]],\n",
              "   ('Information', 0.9947527050971985)],\n",
              "  [[[22.0, 48.0], [109.0, 48.0], [109.0, 62.0], [22.0, 62.0]],\n",
              "   ('123 Main Street', 0.9680683612823486)],\n",
              "  [[[177.0, 48.0], [213.0, 48.0], [213.0, 62.0], [177.0, 62.0]],\n",
              "   ('#0000', 0.9995212554931641)],\n",
              "  [[[158.0, 62.0], [213.0, 62.0], [213.0, 76.0], [158.0, 76.0]],\n",
              "   ('cvs.com', 0.9069531559944153)],\n",
              "  [[[246.0, 53.0], [394.0, 51.0], [394.0, 72.0], [246.0, 74.0]],\n",
              "   ('METFORMIN HCL', 0.9821059703826904)],\n",
              "  [[[21.0, 64.0], [134.0, 64.0], [134.0, 78.0], [21.0, 78.0]],\n",
              "   ('Anytown,USA 00000', 0.9456606507301331)],\n",
              "  [[[286.0, 76.0], [356.0, 76.0], [356.0, 97.0], [286.0, 97.0]],\n",
              "   ('500 MG', 0.9479793906211853)],\n",
              "  [[[758.0, 69.0], [908.0, 70.0], [908.0, 87.0], [758.0, 86.0]],\n",
              "   ('Talk to your Dr.about', 0.9553545117378235)],\n",
              "  [[[19.0, 79.0], [139.0, 80.0], [139.0, 94.0], [19.0, 93.0]],\n",
              "   ('Store Corporate Name', 0.9770164489746094)],\n",
              "  [[[419.0, 81.0], [663.0, 81.0], [663.0, 95.0], [419.0, 95.0]],\n",
              "   ('300 East Street,Anytown,USA 00000', 0.9481532573699951)],\n",
              "  [[[760.0, 91.0], [902.0, 91.0], [902.0, 105.0], [760.0, 105.0]],\n",
              "   ('the safe use of alcohol', 0.9440683126449585)],\n",
              "  [[[22.0, 108.0], [193.0, 108.0], [193.0, 128.0], [22.0, 128.0]],\n",
              "   ('TEL555-555-5555', 0.9943720698356628)],\n",
              "  [[[428.0, 106.0], [712.0, 106.0], [712.0, 130.0], [428.0, 130.0]],\n",
              "   ('METFORMIN HCL', 0.9616110324859619)],\n",
              "  [[[759.0, 107.0], [898.0, 109.0], [898.0, 126.0], [759.0, 124.0]],\n",
              "   ('while taking this drug', 0.9653609991073608)],\n",
              "  [[[352.0, 119.0], [369.0, 119.0], [369.0, 141.0], [352.0, 141.0]],\n",
              "   ('1', 0.998582124710083)],\n",
              "  [[[19.0, 137.0], [130.0, 134.0], [130.0, 158.0], [20.0, 160.0]],\n",
              "   ('RX 105004', 0.9216598868370056)],\n",
              "  [[[759.0, 130.0], [889.0, 133.0], [888.0, 149.0], [759.0, 147.0]],\n",
              "   ('Severe vomiting or', 0.9760987758636475)],\n",
              "  [[[333.0, 145.0], [393.0, 145.0], [393.0, 162.0], [333.0, 162.0]],\n",
              "   ('TABLET', 0.9972255825996399)],\n",
              "  [[[428.0, 140.0], [686.0, 140.0], [686.0, 163.0], [428.0, 163.0]],\n",
              "   ('500 MG TABLET', 0.9384247064590454)],\n",
              "  [[[241.0, 155.0], [311.0, 155.0], [311.0, 172.0], [241.0, 172.0]],\n",
              "   ('MORNING', 0.9972584843635559)],\n",
              "  [[[759.0, 149.0], [886.0, 150.0], [886.0, 167.0], [759.0, 166.0]],\n",
              "   ('diarrhea may cause', 0.9760740995407104)],\n",
              "  [[[22.0, 173.0], [78.0, 173.0], [78.0, 190.0], [22.0, 190.0]],\n",
              "   ('QTY:60', 0.9352610111236572)],\n",
              "  [[[760.0, 169.0], [883.0, 169.0], [883.0, 183.0], [760.0, 183.0]],\n",
              "   ('dehvdration if these', 0.9557657241821289)],\n",
              "  [[[759.0, 187.0], [849.0, 187.0], [849.0, 204.0], [759.0, 204.0]],\n",
              "   ('occur call MD', 0.9598146677017212)],\n",
              "  [[[22.0, 197.0], [204.0, 197.0], [204.0, 214.0], [22.0, 214.0]],\n",
              "   ('REFILLS: 2 by MM/DD/YYYY', 0.967379093170166)],\n",
              "  [[[759.0, 209.0], [873.0, 213.0], [872.0, 231.0], [758.0, 227.0]],\n",
              "   ('Drug may cause', 0.9538489580154419)],\n",
              "  [[[21.0, 229.0], [117.0, 229.0], [117.0, 243.0], [21.0, 243.0]],\n",
              "   ('PRSCBR:J.Doe', 0.9414737820625305)],\n",
              "  [[[421.0, 220.0], [645.0, 220.0], [645.0, 233.0], [421.0, 233.0]],\n",
              "   ('Generic equivalent of:Glucophage', 0.9658290147781372)],\n",
              "  [[[245.0, 234.0], [304.0, 234.0], [304.0, 251.0], [245.0, 251.0]],\n",
              "   ('MIDDAY', 0.9973875880241394)],\n",
              "  [[[421.0, 237.0], [699.0, 239.0], [699.0, 263.0], [420.0, 261.0]],\n",
              "   ('Take 1 tablet orally', 0.9962593913078308)],\n",
              "  [[[760.0, 229.0], [867.0, 229.0], [867.0, 246.0], [760.0, 246.0]],\n",
              "   ('lactic acidosis.If', 0.9091899394989014)],\n",
              "  [[[21.0, 246.0], [182.0, 249.0], [182.0, 266.0], [20.0, 263.0]],\n",
              "   ('DATE FILLED:06/26/2023', 0.9532528519630432)],\n",
              "  [[[759.0, 246.0], [882.0, 248.0], [881.0, 266.0], [759.0, 264.0]],\n",
              "   ('symptoms develop.', 0.9701091647148132)],\n",
              "  [[[22.0, 270.0], [198.0, 270.0], [198.0, 283.0], [22.0, 283.0]],\n",
              "   ('DISCARDAFTER06/26/2025', 0.989685595035553)],\n",
              "  [[[419.0, 268.0], [615.0, 270.0], [614.0, 297.0], [418.0, 295.0]],\n",
              "   ('2 times a day', 0.9771130084991455)],\n",
              "  [[[758.0, 266.0], [878.0, 267.0], [877.0, 284.0], [758.0, 283.0]],\n",
              "   ('seek medical help.', 0.9660184383392334)],\n",
              "  [[[21.0, 288.0], [105.0, 288.0], [105.0, 302.0], [21.0, 302.0]],\n",
              "   ('RPH:J.Smith', 0.9579192996025085)],\n",
              "  [[[21.0, 309.0], [176.0, 309.0], [176.0, 322.0], [21.0, 322.0]],\n",
              "   ('MFR:ABC Manufacturer', 0.9491662979125977)],\n",
              "  [[[246.0, 311.0], [306.0, 311.0], [306.0, 329.0], [246.0, 329.0]],\n",
              "   ('EVENING', 0.9966979622840881)],\n",
              "  [[[333.0, 302.0], [394.0, 302.0], [394.0, 319.0], [333.0, 319.0]],\n",
              "   ('TABLET', 0.9974088072776794)],\n",
              "  [[[16.0, 348.0], [180.0, 348.0], [180.0, 361.0], [16.0, 361.0]],\n",
              "   ('This is a WHITE,OVAL-SHAPED', 0.939594030380249)],\n",
              "  [[[15.0, 364.0], [206.0, 364.0], [206.0, 377.0], [15.0, 377.0]],\n",
              "   ('tablet imprinted with 93 on the front', 0.9532434344291687)],\n",
              "  [[[759.0, 369.0], [905.0, 370.0], [905.0, 384.0], [759.0, 383.0]],\n",
              "   ('CAUTION Federal law prohibits the', 0.9679855704307556)],\n",
              "  [[[15.0, 380.0], [120.0, 380.0], [120.0, 393.0], [15.0, 393.0]],\n",
              "   ('and 48 on the back.', 0.9214495420455933)],\n",
              "  [[[920.0, 372.0], [935.0, 372.0], [935.0, 402.0], [920.0, 402.0]],\n",
              "   ('REFILL', 0.998106062412262)],\n",
              "  [[[245.0, 389.0], [307.0, 389.0], [307.0, 406.0], [245.0, 406.0]],\n",
              "   ('BEDTIME', 0.9972743391990662)],\n",
              "  [[[759.0, 385.0], [903.0, 385.0], [903.0, 398.0], [759.0, 398.0]],\n",
              "   ('transfer of this drug to any person', 0.9546133875846863)],\n",
              "  [[[759.0, 398.0], [903.0, 398.0], [903.0, 410.0], [759.0, 410.0]],\n",
              "   ('other than the patient for whom it', 0.9789407253265381)],\n",
              "  [[[260.0, 414.0], [377.0, 415.0], [377.0, 430.0], [260.0, 429.0]],\n",
              "   ('APHARMACY ADVICE', 0.9722907543182373)],\n",
              "  [[[757.0, 411.0], [826.0, 409.0], [827.0, 423.0], [758.0, 425.0]],\n",
              "   ('was prescribed.', 0.927888035774231)]]]"
            ]
          },
          "metadata": {},
          "execution_count": 194
        }
      ]
    },
    {
      "cell_type": "code",
      "source": [
        "#str(result[0])"
      ],
      "metadata": {
        "id": "8v8mmEFNAgzk"
      },
      "execution_count": null,
      "outputs": []
    },
    {
      "cell_type": "code",
      "metadata": {
        "id": "O7f70LG5EUUo",
        "colab": {
          "base_uri": "https://localhost:8080/"
        },
        "outputId": "9e151277-2d7e-4117-e741-500ff4d0da8b"
      },
      "source": [
        "#print(len(result))\n",
        "for resu in result:\n",
        "  for res in resu:\n",
        "    print(res[-1])\n",
        "\n",
        ""
      ],
      "execution_count": 218,
      "outputs": [
        {
          "output_type": "stream",
          "name": "stdout",
          "text": [
            "('VCVS pharmacy', 0.9200306534767151)\n",
            "('PATIENT', 0.9978834986686707)\n",
            "('John', 0.9999155402183533)\n",
            "('Important', 0.9887750148773193)\n",
            "('Doe', 0.9981111884117126)\n",
            "('Information', 0.9947527050971985)\n",
            "('123 Main Street', 0.9680683612823486)\n",
            "('#0000', 0.9995212554931641)\n",
            "('cvs.com', 0.9069531559944153)\n",
            "('METFORMIN HCL', 0.9821059703826904)\n",
            "('Anytown,USA 00000', 0.9456606507301331)\n",
            "('500 MG', 0.9479793906211853)\n",
            "('Talk to your Dr.about', 0.9553545117378235)\n",
            "('Store Corporate Name', 0.9770164489746094)\n",
            "('300 East Street,Anytown,USA 00000', 0.9481532573699951)\n",
            "('the safe use of alcohol', 0.9440683126449585)\n",
            "('TEL555-555-5555', 0.9943720698356628)\n",
            "('METFORMIN HCL', 0.9616110324859619)\n",
            "('while taking this drug', 0.9653609991073608)\n",
            "('1', 0.998582124710083)\n",
            "('RX 105004', 0.9216598868370056)\n",
            "('Severe vomiting or', 0.9760987758636475)\n",
            "('TABLET', 0.9972255825996399)\n",
            "('500 MG TABLET', 0.9384247064590454)\n",
            "('MORNING', 0.9972584843635559)\n",
            "('diarrhea may cause', 0.9760740995407104)\n",
            "('QTY:60', 0.9352610111236572)\n",
            "('dehvdration if these', 0.9557657241821289)\n",
            "('occur call MD', 0.9598146677017212)\n",
            "('REFILLS: 2 by MM/DD/YYYY', 0.967379093170166)\n",
            "('Drug may cause', 0.9538489580154419)\n",
            "('PRSCBR:J.Doe', 0.9414737820625305)\n",
            "('Generic equivalent of:Glucophage', 0.9658290147781372)\n",
            "('MIDDAY', 0.9973875880241394)\n",
            "('Take 1 tablet orally', 0.9962593913078308)\n",
            "('lactic acidosis.If', 0.9091899394989014)\n",
            "('DATE FILLED:06/26/2023', 0.9532528519630432)\n",
            "('symptoms develop.', 0.9701091647148132)\n",
            "('DISCARDAFTER06/26/2025', 0.989685595035553)\n",
            "('2 times a day', 0.9771130084991455)\n",
            "('seek medical help.', 0.9660184383392334)\n",
            "('RPH:J.Smith', 0.9579192996025085)\n",
            "('MFR:ABC Manufacturer', 0.9491662979125977)\n",
            "('EVENING', 0.9966979622840881)\n",
            "('TABLET', 0.9974088072776794)\n",
            "('This is a WHITE,OVAL-SHAPED', 0.939594030380249)\n",
            "('tablet imprinted with 93 on the front', 0.9532434344291687)\n",
            "('CAUTION Federal law prohibits the', 0.9679855704307556)\n",
            "('and 48 on the back.', 0.9214495420455933)\n",
            "('REFILL', 0.998106062412262)\n",
            "('BEDTIME', 0.9972743391990662)\n",
            "('transfer of this drug to any person', 0.9546133875846863)\n",
            "('other than the patient for whom it', 0.9789407253265381)\n",
            "('APHARMACY ADVICE', 0.9722907543182373)\n",
            "('was prescribed.', 0.927888035774231)\n"
          ]
        }
      ]
    },
    {
      "cell_type": "markdown",
      "metadata": {
        "id": "ZsNIXRpXEbui"
      },
      "source": [
        "3. Extracting prescription medication labels using PaddleOCR"
      ]
    },
    {
      "cell_type": "code",
      "metadata": {
        "id": "iyRHo_AVEdpN"
      },
      "source": [
        "boxes = [res[0] for res in result] #\n",
        "texts = [res[1][0] for res in result]\n",
        "scores = [res[1][1] for res in result]"
      ],
      "execution_count": 151,
      "outputs": []
    },
    {
      "cell_type": "code",
      "metadata": {
        "id": "oc3PwxjSEipn"
      },
      "source": [
        "font_path = os.path.join('PaddleOCR', 'doc', 'fonts', 'latin.ttf')"
      ],
      "execution_count": 152,
      "outputs": []
    },
    {
      "cell_type": "code",
      "metadata": {
        "id": "d5AXe-QNEqHk"
      },
      "source": [
        "img = cv2.imread(img_path)\n",
        "img = cv2.cvtColor(img, cv2.COLOR_BGR2RGB)"
      ],
      "execution_count": 153,
      "outputs": []
    },
    {
      "cell_type": "code",
      "metadata": {
        "id": "4IRjts2qEwZk",
        "colab": {
          "base_uri": "https://localhost:8080/",
          "height": 374
        },
        "outputId": "83476b0a-5169-4506-c4f6-0bf4bc53fec0"
      },
      "source": [
        "plt.figure(figsize=(15,15))\n",
        "\n",
        "annotated = draw_ocr(img, boxes, texts, scores, font_path=font_path)\n",
        "\n",
        "plt.imshow(annotated)"
      ],
      "execution_count": 155,
      "outputs": [
        {
          "output_type": "error",
          "ename": "TypeError",
          "evalue": "ignored",
          "traceback": [
            "\u001b[0;31m---------------------------------------------------------------------------\u001b[0m",
            "\u001b[0;31mTypeError\u001b[0m                                 Traceback (most recent call last)",
            "\u001b[0;32m<ipython-input-155-dd36000a8614>\u001b[0m in \u001b[0;36m<cell line: 3>\u001b[0;34m()\u001b[0m\n\u001b[1;32m      1\u001b[0m \u001b[0mplt\u001b[0m\u001b[0;34m.\u001b[0m\u001b[0mfigure\u001b[0m\u001b[0;34m(\u001b[0m\u001b[0mfigsize\u001b[0m\u001b[0;34m=\u001b[0m\u001b[0;34m(\u001b[0m\u001b[0;36m15\u001b[0m\u001b[0;34m,\u001b[0m\u001b[0;36m15\u001b[0m\u001b[0;34m)\u001b[0m\u001b[0;34m)\u001b[0m\u001b[0;34m\u001b[0m\u001b[0;34m\u001b[0m\u001b[0m\n\u001b[1;32m      2\u001b[0m \u001b[0;34m\u001b[0m\u001b[0m\n\u001b[0;32m----> 3\u001b[0;31m \u001b[0mannotated\u001b[0m \u001b[0;34m=\u001b[0m \u001b[0mdraw_ocr\u001b[0m\u001b[0;34m(\u001b[0m\u001b[0mimg\u001b[0m\u001b[0;34m,\u001b[0m \u001b[0mboxes\u001b[0m\u001b[0;34m,\u001b[0m \u001b[0mtexts\u001b[0m\u001b[0;34m,\u001b[0m \u001b[0mscores\u001b[0m\u001b[0;34m,\u001b[0m \u001b[0mfont_path\u001b[0m\u001b[0;34m=\u001b[0m\u001b[0mfont_path\u001b[0m\u001b[0;34m)\u001b[0m\u001b[0;34m\u001b[0m\u001b[0;34m\u001b[0m\u001b[0m\n\u001b[0m\u001b[1;32m      4\u001b[0m \u001b[0;34m\u001b[0m\u001b[0m\n\u001b[1;32m      5\u001b[0m \u001b[0mplt\u001b[0m\u001b[0;34m.\u001b[0m\u001b[0mimshow\u001b[0m\u001b[0;34m(\u001b[0m\u001b[0mannotated\u001b[0m\u001b[0;34m)\u001b[0m\u001b[0;34m\u001b[0m\u001b[0;34m\u001b[0m\u001b[0m\n",
            "\u001b[0;32m/usr/local/lib/python3.10/dist-packages/paddleocr/tools/infer/utility.py\u001b[0m in \u001b[0;36mdraw_ocr\u001b[0;34m(image, boxes, txts, scores, drop_score, font_path)\u001b[0m\n\u001b[1;32m    380\u001b[0m     \u001b[0mbox_num\u001b[0m \u001b[0;34m=\u001b[0m \u001b[0mlen\u001b[0m\u001b[0;34m(\u001b[0m\u001b[0mboxes\u001b[0m\u001b[0;34m)\u001b[0m\u001b[0;34m\u001b[0m\u001b[0;34m\u001b[0m\u001b[0m\n\u001b[1;32m    381\u001b[0m     \u001b[0;32mfor\u001b[0m \u001b[0mi\u001b[0m \u001b[0;32min\u001b[0m \u001b[0mrange\u001b[0m\u001b[0;34m(\u001b[0m\u001b[0mbox_num\u001b[0m\u001b[0;34m)\u001b[0m\u001b[0;34m:\u001b[0m\u001b[0;34m\u001b[0m\u001b[0;34m\u001b[0m\u001b[0m\n\u001b[0;32m--> 382\u001b[0;31m         if scores is not None and (scores[i] < drop_score or\n\u001b[0m\u001b[1;32m    383\u001b[0m                                    math.isnan(scores[i])):\n\u001b[1;32m    384\u001b[0m             \u001b[0;32mcontinue\u001b[0m\u001b[0;34m\u001b[0m\u001b[0;34m\u001b[0m\u001b[0m\n",
            "\u001b[0;31mTypeError\u001b[0m: '<' not supported between instances of 'tuple' and 'float'"
          ]
        },
        {
          "output_type": "display_data",
          "data": {
            "text/plain": [
              "<Figure size 1500x1500 with 0 Axes>"
            ]
          },
          "metadata": {}
        }
      ]
    }
  ]
}
